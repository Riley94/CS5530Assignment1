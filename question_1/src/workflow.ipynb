{
 "cells": [
  {
   "cell_type": "markdown",
   "metadata": {},
   "source": [
    "# Data Collection"
   ]
  },
  {
   "cell_type": "code",
   "execution_count": 15,
   "metadata": {},
   "outputs": [],
   "source": [
    "import csv\n",
    "from docx import Document\n",
    "\n",
    "def read_table_from_docx(docx_file_path):\n",
    "    \"\"\"\n",
    "    Extracts only table from DOCX file and returns its data\n",
    "    \"\"\"\n",
    "    document = Document(docx_file_path)\n",
    "    table = document.tables[0]\n",
    "    table_data = []\n",
    "    for row in table.rows:\n",
    "            row_data = [cell.text.replace('\\xa0', '').rstrip() for cell in row.cells]\n",
    "            table_data.append(row_data)\n",
    "    return table_data\n",
    "\n",
    "def save_table_to_csv(table_data, csv_file_path):\n",
    "    \"\"\"\n",
    "    Saves table data to a CSV file.\n",
    "    \"\"\"\n",
    "    with open(csv_file_path, mode='w', newline='', encoding='utf-8') as file:\n",
    "        writer = csv.writer(file)\n",
    "        writer.writerows(table_data)"
   ]
  },
  {
   "cell_type": "code",
   "execution_count": 19,
   "metadata": {},
   "outputs": [],
   "source": [
    "import os\n",
    "\n",
    "docx_file_path = '..\\data_raw\\Assignment 1.docx'\n",
    "csv_file_path = '..\\data_raw\\question_1.csv'\n",
    "\n",
    "# Check if CSV file already exists\n",
    "if (not os.path.isfile(csv_file_path)):\n",
    "    # Extract table from DOCX file and save to CSV\n",
    "    table = read_table_from_docx(docx_file_path)\n",
    "    save_table_to_csv(table, csv_file_path)"
   ]
  },
  {
   "cell_type": "code",
   "execution_count": 20,
   "metadata": {},
   "outputs": [
    {
     "name": "stdout",
     "output_type": "stream",
     "text": [
      "   Height  Weight  Age  Grip strength Frailty\n",
      "0    65.8     112   30             30       N\n",
      "1    71.5     136   19             31       N\n",
      "2    69.4     153   45             29       N\n",
      "3    68.2     142   22             28       Y\n",
      "4    67.8     144   29             24       Y\n",
      "5    68.7     123   50             26       N\n",
      "6    69.8     141   51             22       Y\n",
      "7    70.1     136   23             20       Y\n",
      "8    67.9     112   17             19       N\n",
      "9    66.8     120   39             31       N\n"
     ]
    },
    {
     "name": "stderr",
     "output_type": "stream",
     "text": [
      "C:\\Users\\rgbmr\\AppData\\Local\\Temp\\ipykernel_10340\\4238834641.py:1: DeprecationWarning: \n",
      "Pyarrow will become a required dependency of pandas in the next major release of pandas (pandas 3.0),\n",
      "(to allow more performant data types, such as the Arrow string type, and better interoperability with other libraries)\n",
      "but was not found to be installed on your system.\n",
      "If this would cause problems for you,\n",
      "please provide us feedback at https://github.com/pandas-dev/pandas/issues/54466\n",
      "        \n",
      "  import pandas as pd\n"
     ]
    }
   ],
   "source": [
    "import pandas as pd\n",
    "\n",
    "# Load data from CSV file\n",
    "data = pd.read_csv(csv_file_path)\n",
    "print(data)"
   ]
  },
  {
   "cell_type": "code",
   "execution_count": 17,
   "metadata": {},
   "outputs": [],
   "source": []
  },
  {
   "cell_type": "code",
   "execution_count": null,
   "metadata": {},
   "outputs": [],
   "source": [
    "document = Document(docx_file_path)"
   ]
  }
 ],
 "metadata": {
  "kernelspec": {
   "display_name": "CS5530Assignment1",
   "language": "python",
   "name": "python3"
  },
  "language_info": {
   "codemirror_mode": {
    "name": "ipython",
    "version": 3
   },
   "file_extension": ".py",
   "mimetype": "text/x-python",
   "name": "python",
   "nbconvert_exporter": "python",
   "pygments_lexer": "ipython3",
   "version": "3.11.7"
  }
 },
 "nbformat": 4,
 "nbformat_minor": 2
}
